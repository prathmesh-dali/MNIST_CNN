{
 "cells": [
  {
   "cell_type": "code",
   "execution_count": 1,
   "metadata": {},
   "outputs": [],
   "source": [
    "%matplotlib inline\n",
    "\n",
    "import numpy as np\n",
    "import matplotlib.pyplot as plt\n",
    "import pandas as pd\n",
    "import tensorflow as tf\n",
    "from sklearn.utils import shuffle\n",
    "from sklearn.model_selection import train_test_split"
   ]
  },
  {
   "cell_type": "code",
   "execution_count": 2,
   "metadata": {},
   "outputs": [
    {
     "name": "stderr",
     "output_type": "stream",
     "text": [
      "C:\\Users\\prathmesh.dali\\AppData\\Local\\Continuum\\miniconda3\\envs\\latest-tf\\lib\\site-packages\\ipykernel_launcher.py:1: FutureWarning: Method .as_matrix will be removed in a future version. Use .values instead.\n",
      "  \"\"\"Entry point for launching an IPython kernel.\n"
     ]
    }
   ],
   "source": [
    "data = pd.read_csv('train.csv').as_matrix()\n"
   ]
  },
  {
   "cell_type": "code",
   "execution_count": 3,
   "metadata": {},
   "outputs": [],
   "source": [
    "y, X = data[:,0], data[:, 1:]\n",
    "X = X.astype(np.float64)\n",
    "y = y.reshape([-1,1])"
   ]
  },
  {
   "cell_type": "code",
   "execution_count": 4,
   "metadata": {},
   "outputs": [],
   "source": [
    "X_train, X_test, y_train, y_test = train_test_split(X, y, test_size=0.2, random_state=1)"
   ]
  },
  {
   "cell_type": "code",
   "execution_count": 5,
   "metadata": {},
   "outputs": [],
   "source": [
    "X_train -= 127.0\n",
    "X_train /= 127.0\n",
    "\n",
    "X_test  -= 127.0\n",
    "X_test /= 127.0"
   ]
  },
  {
   "cell_type": "code",
   "execution_count": 6,
   "metadata": {},
   "outputs": [],
   "source": [
    "learning_rate_ph = tf.placeholder(dtype=tf.float32, name=\"learning_rate\")\n",
    "input_placeholder = tf.placeholder(dtype=tf.float32, shape=(None, X_train.shape[1]), name=\"input_images\") \n",
    "labels = tf.placeholder(dtype=tf.int32, shape=(None, 1), name=\"input_labels\")\n",
    "keep_prob = tf.placeholder(dtype=tf.float32, name=\"keep_prob\")"
   ]
  },
  {
   "cell_type": "code",
   "execution_count": 7,
   "metadata": {},
   "outputs": [],
   "source": [
    "def nn():\n",
    "    input_2d = tf.reshape(input_placeholder,[-1,28,28,1], name=\"resizing\")\n",
    "    l1_1 = tf.layers.conv2d(input_2d,8,5,1,activation=tf.nn.relu, name=\"convo_1\")\n",
    "    l1_2 = tf.layers.max_pooling2d(l1_1,2,1, name=\"maxpool_1\")\n",
    "    l1_3 = tf.layers.conv2d(l1_2,8,3,1,activation=tf.nn.relu, name=\"convo_2\")\n",
    "    l1_4 = tf.layers.max_pooling2d(l1_3,2,2, name=\"maxpool_2\")\n",
    "    l1_5 = tf.layers.flatten(l1_4, name=\"flatten\")\n",
    "    l2   = tf.layers.dense(l1_5, 32, activation=tf.nn.relu, name=\"flat_1\")\n",
    "    l2 = tf.layers.dropout(l2, rate=keep_prob)\n",
    "    out  = tf.layers.dense(l2,10, name=\"flat_2\")\n",
    "    \n",
    "    # Define the cost\n",
    "    cost = tf.reduce_mean(tf.nn.softmax_cross_entropy_with_logits(logits=out, labels=tf.one_hot(labels,depth=10)))\n",
    "    \n",
    "    # Apply an optimizer\n",
    "    optimizer = tf.train.AdamOptimizer(learning_rate=learning_rate_ph).minimize(cost)\n",
    "    \n",
    "    return cost, optimizer, out"
   ]
  },
  {
   "cell_type": "code",
   "execution_count": 8,
   "metadata": {},
   "outputs": [],
   "source": [
    "def get_next_batch(batch_size, X, y):\n",
    "    for i in range(0,len(y),batch_size):\n",
    "        start = i\n",
    "        end = min(len(y), i+batch_size)\n",
    "        yield X[start:end, :] , y[start:end]"
   ]
  },
  {
   "cell_type": "code",
   "execution_count": 9,
   "metadata": {
    "scrolled": true
   },
   "outputs": [
    {
     "name": "stdout",
     "output_type": "stream",
     "text": [
      "WARNING:tensorflow:From <ipython-input-7-7a56f654b47e>:13: softmax_cross_entropy_with_logits (from tensorflow.python.ops.nn_ops) is deprecated and will be removed in a future version.\n",
      "Instructions for updating:\n",
      "\n",
      "Future major versions of TensorFlow will allow gradients to flow\n",
      "into the labels input on backprop by default.\n",
      "\n",
      "See @{tf.nn.softmax_cross_entropy_with_logits_v2}.\n",
      "\n"
     ]
    }
   ],
   "source": [
    "cost, optimizer, output = nn()"
   ]
  },
  {
   "cell_type": "code",
   "execution_count": null,
   "metadata": {
    "scrolled": false
   },
   "outputs": [
    {
     "name": "stderr",
     "output_type": "stream",
     "text": [
      "\r",
      "  0%|                                                                                           | 0/75 [00:00<?, ?it/s]"
     ]
    },
    {
     "name": "stdout",
     "output_type": "stream",
     "text": [
      "train iindices 26880 val indices 6720\n",
      "Epoch: 0001 cost= 0.323859946\n",
      "Train Accuracy: 0.9028273809523809\n",
      "Validation Accuracy: 0.9020543981481481\n",
      "Test Accuracy: 0.906878277972028\n",
      "\n"
     ]
    },
    {
     "name": "stderr",
     "output_type": "stream",
     "text": [
      "\r",
      "  1%|█                                                                                  | 1/75 [00:45<56:08, 45.51s/it]"
     ]
    },
    {
     "name": "stdout",
     "output_type": "stream",
     "text": [
      "train iindices 26880 val indices 6720\n",
      "Epoch: 0002 cost= 0.155757994\n",
      "Train Accuracy: 0.9550967261904761\n",
      "Validation Accuracy: 0.9518229166666666\n",
      "Test Accuracy: 0.9517864947552448\n",
      "\n"
     ]
    },
    {
     "name": "stderr",
     "output_type": "stream",
     "text": [
      "\r",
      "  3%|██▏                                                                                | 2/75 [01:30<55:19, 45.48s/it]"
     ]
    },
    {
     "name": "stdout",
     "output_type": "stream",
     "text": [
      "train iindices 26880 val indices 6720\n",
      "Epoch: 0003 cost= 0.113305586\n",
      "Train Accuracy: 0.9674479166666666\n",
      "Validation Accuracy: 0.9623842592592593\n",
      "Test Accuracy: 0.9610194493006993\n",
      "\n"
     ]
    },
    {
     "name": "stderr",
     "output_type": "stream",
     "text": [
      "\r",
      "  4%|███▎                                                                               | 3/75 [02:15<54:05, 45.08s/it]"
     ]
    },
    {
     "name": "stdout",
     "output_type": "stream",
     "text": [
      "train iindices 26880 val indices 6720\n",
      "Epoch: 0004 cost= 0.089406145\n",
      "Train Accuracy: 0.9734375\n",
      "Validation Accuracy: 0.9712094907407407\n",
      "Test Accuracy: 0.9689776369463869\n",
      "\n"
     ]
    },
    {
     "name": "stderr",
     "output_type": "stream",
     "text": [
      "\r",
      "  5%|████▍                                                                              | 4/75 [03:02<54:07, 45.73s/it]"
     ]
    },
    {
     "name": "stdout",
     "output_type": "stream",
     "text": [
      "train iindices 26880 val indices 6720\n",
      "Epoch: 0005 cost= 0.080316478\n",
      "Train Accuracy: 0.9747395833333333\n",
      "Validation Accuracy: 0.9742476851851852\n",
      "Test Accuracy: 0.9692416958041957\n",
      "\n"
     ]
    },
    {
     "name": "stderr",
     "output_type": "stream",
     "text": [
      "\r",
      "  7%|█████▌                                                                             | 5/75 [03:48<53:19, 45.71s/it]"
     ]
    },
    {
     "name": "stdout",
     "output_type": "stream",
     "text": [
      "train iindices 26880 val indices 6720\n",
      "Epoch: 0006 cost= 0.067476706\n",
      "Train Accuracy: 0.9797247023809523\n",
      "Validation Accuracy: 0.9748263888888888\n",
      "Test Accuracy: 0.973093312937063\n",
      "\n"
     ]
    },
    {
     "name": "stderr",
     "output_type": "stream",
     "text": [
      "\r",
      "  8%|██████▋                                                                            | 6/75 [04:33<52:27, 45.62s/it]"
     ]
    },
    {
     "name": "stdout",
     "output_type": "stream",
     "text": [
      "train iindices 26880 val indices 6720\n",
      "Epoch: 0007 cost= 0.059786483\n",
      "Train Accuracy: 0.9814732142857143\n",
      "Validation Accuracy: 0.9780092592592593\n",
      "Test Accuracy: 0.9768447698135198\n",
      "\n"
     ]
    },
    {
     "name": "stderr",
     "output_type": "stream",
     "text": [
      "\r",
      "  9%|███████▋                                                                           | 7/75 [05:18<51:34, 45.51s/it]"
     ]
    },
    {
     "name": "stdout",
     "output_type": "stream",
     "text": [
      "train iindices 26880 val indices 6720\n",
      "Epoch: 0008 cost= 0.054198721\n",
      "Train Accuracy: 0.9833333333333333\n",
      "Validation Accuracy: 0.9778645833333334\n",
      "Test Accuracy: 0.9773546765734267\n",
      "\n"
     ]
    },
    {
     "name": "stderr",
     "output_type": "stream",
     "text": [
      "\r",
      " 11%|████████▊                                                                          | 8/75 [06:03<50:41, 45.40s/it]"
     ]
    },
    {
     "name": "stdout",
     "output_type": "stream",
     "text": [
      "train iindices 26880 val indices 6720\n",
      "Epoch: 0009 cost= 0.050822001\n",
      "Train Accuracy: 0.9849330357142857\n",
      "Validation Accuracy: 0.9816261574074074\n",
      "Test Accuracy: 0.9795946241258742\n",
      "\n"
     ]
    },
    {
     "name": "stderr",
     "output_type": "stream",
     "text": [
      "\r",
      " 12%|█████████▉                                                                         | 9/75 [06:48<49:52, 45.34s/it]"
     ]
    },
    {
     "name": "stdout",
     "output_type": "stream",
     "text": [
      "train iindices 26880 val indices 6720\n",
      "Epoch: 0010 cost= 0.049145269\n",
      "Train Accuracy: 0.9846354166666667\n",
      "Validation Accuracy: 0.9859664351851852\n",
      "Test Accuracy: 0.9789754516317016\n",
      "\n"
     ]
    },
    {
     "name": "stderr",
     "output_type": "stream",
     "text": [
      "\r",
      " 13%|██████████▉                                                                       | 10/75 [07:32<49:03, 45.28s/it]"
     ]
    },
    {
     "name": "stdout",
     "output_type": "stream",
     "text": [
      "train iindices 26880 val indices 6720\n",
      "Epoch: 0011 cost= 0.044133176\n",
      "Train Accuracy: 0.9863467261904761\n",
      "Validation Accuracy: 0.9853877314814815\n",
      "Test Accuracy: 0.9791848776223776\n",
      "\n"
     ]
    },
    {
     "name": "stderr",
     "output_type": "stream",
     "text": [
      "\r",
      " 15%|████████████                                                                      | 11/75 [08:17<48:14, 45.23s/it]"
     ]
    },
    {
     "name": "stdout",
     "output_type": "stream",
     "text": [
      "train iindices 26880 val indices 6720\n",
      "Epoch: 0012 cost= 0.045381366\n",
      "Train Accuracy: 0.9859002976190476\n",
      "Validation Accuracy: 0.9868344907407407\n",
      "Test Accuracy: 0.97942162004662\n",
      "\n"
     ]
    },
    {
     "name": "stderr",
     "output_type": "stream",
     "text": [
      "\r",
      " 16%|█████████████                                                                     | 12/75 [09:07<47:52, 45.59s/it]"
     ]
    },
    {
     "name": "stdout",
     "output_type": "stream",
     "text": [
      "train iindices 26880 val indices 6720\n",
      "Epoch: 0013 cost= 0.036722869\n",
      "Train Accuracy: 0.9885416666666667\n",
      "Validation Accuracy: 0.9879918981481481\n",
      "Test Accuracy: 0.9821168414918414\n",
      "\n"
     ]
    },
    {
     "name": "stderr",
     "output_type": "stream",
     "text": [
      "\r",
      " 17%|██████████████▏                                                                   | 13/75 [09:52<47:04, 45.55s/it]"
     ]
    },
    {
     "name": "stdout",
     "output_type": "stream",
     "text": [
      "train iindices 26880 val indices 6720\n",
      "Epoch: 0014 cost= 0.037530316\n",
      "Train Accuracy: 0.9888020833333333\n",
      "Validation Accuracy: 0.9877025462962963\n",
      "Test Accuracy: 0.9809240238927739\n",
      "\n"
     ]
    },
    {
     "name": "stderr",
     "output_type": "stream",
     "text": [
      "\r",
      " 19%|███████████████▎                                                                  | 14/75 [10:38<46:19, 45.57s/it]"
     ]
    },
    {
     "name": "stdout",
     "output_type": "stream",
     "text": [
      "train iindices 26880 val indices 6720\n",
      "Epoch: 0015 cost= 0.036308869\n",
      "Train Accuracy: 0.9883184523809524\n",
      "Validation Accuracy: 0.9884259259259259\n",
      "Test Accuracy: 0.9818709935897436\n",
      "\n"
     ]
    },
    {
     "name": "stderr",
     "output_type": "stream",
     "text": [
      "\r",
      " 20%|████████████████▍                                                                 | 15/75 [11:22<45:31, 45.53s/it]"
     ]
    },
    {
     "name": "stdout",
     "output_type": "stream",
     "text": [
      "train iindices 26880 val indices 6720\n",
      "Epoch: 0016 cost= 0.032450853\n",
      "Train Accuracy: 0.9901413690476191\n",
      "Validation Accuracy: 0.9862557870370371\n",
      "Test Accuracy: 0.9825539044289044\n",
      "\n"
     ]
    },
    {
     "name": "stderr",
     "output_type": "stream",
     "text": [
      "\r",
      " 21%|█████████████████▍                                                                | 16/75 [12:07<44:42, 45.47s/it]"
     ]
    },
    {
     "name": "stdout",
     "output_type": "stream",
     "text": [
      "train iindices 26880 val indices 6720\n",
      "Epoch: 0017 cost= 0.030203377\n",
      "Train Accuracy: 0.9909970238095238\n",
      "Validation Accuracy: 0.9859664351851852\n",
      "Test Accuracy: 0.9824628496503497\n",
      "\n"
     ]
    },
    {
     "name": "stderr",
     "output_type": "stream",
     "text": [
      "\r",
      " 23%|██████████████████▌                                                               | 17/75 [12:52<43:56, 45.46s/it]"
     ]
    },
    {
     "name": "stdout",
     "output_type": "stream",
     "text": [
      "train iindices 26880 val indices 6720\n",
      "Epoch: 0018 cost= 0.033131666\n",
      "Train Accuracy: 0.9889880952380953\n",
      "Validation Accuracy: 0.9898726851851852\n",
      "Test Accuracy: 0.9812791375291375\n",
      "\n"
     ]
    },
    {
     "name": "stderr",
     "output_type": "stream",
     "text": [
      "\r",
      " 24%|███████████████████▋                                                              | 18/75 [13:38<43:10, 45.45s/it]"
     ]
    },
    {
     "name": "stdout",
     "output_type": "stream",
     "text": [
      "train iindices 26880 val indices 6720\n",
      "Epoch: 0019 cost= 0.028689191\n",
      "Train Accuracy: 0.9909970238095238\n",
      "Validation Accuracy: 0.9905960648148148\n",
      "Test Accuracy: 0.9838833041958043\n",
      "\n"
     ]
    },
    {
     "name": "stderr",
     "output_type": "stream",
     "text": [
      "\r",
      " 25%|████████████████████▊                                                             | 19/75 [14:27<42:36, 45.65s/it]"
     ]
    },
    {
     "name": "stdout",
     "output_type": "stream",
     "text": [
      "train iindices 26880 val indices 6720\n"
     ]
    }
   ],
   "source": [
    "from sklearn.metrics import accuracy_score\n",
    "from tqdm import tqdm\n",
    "epochs = 75\n",
    "batch_size = 512\n",
    "num_batches = int(X_train.shape[0]/batch_size)\n",
    "n_train = int(len(y_train)*0.8)\n",
    "\n",
    "train_accuracy = []\n",
    "val_accuracy = []\n",
    "test_accuracy = []\n",
    "cost_curr = []\n",
    "\n",
    "def eval_cost(X, y):\n",
    "    total_cost = 0\n",
    "    nb_batches = 0\n",
    "    for X,y in get_next_batch(256,X,y):\n",
    "        feed_dict={input_placeholder: X, labels: y, learning_rate_ph:current_placeholder_value, keep_prob:1.0}\n",
    "        total_cost += cost.eval(feed_dict=feed_dict)\n",
    "        nb_batches += 1\n",
    "    return total_cost / nb_batches\n",
    "\n",
    "def eval_accuracy(X,y):\n",
    "    nb_batches = 0\n",
    "    total_acc = 0\n",
    "    for X,y in get_next_batch(256,X,y):\n",
    "        feed_dict={input_placeholder: X, labels: y, learning_rate_ph:current_placeholder_value, keep_prob:1.0}\n",
    "        y_predicted = np.argmax(output.eval(feed_dict=feed_dict),1)\n",
    "        total_acc += accuracy_score(y,y_predicted)\n",
    "        nb_batches += 1\n",
    "    return total_acc/nb_batches\n",
    "\n",
    "# Launch the graph\n",
    "with tf.Session() as sess:\n",
    "    sess.run(tf.global_variables_initializer())\n",
    "    current_placeholder_value = 0.001\n",
    "    \n",
    "    for epoch in tqdm(range(epochs)):\n",
    "        # Shuffle data for cross validation\n",
    "        indices = np.array(range(len(y_train)))\n",
    "        np.random.shuffle(indices)\n",
    "        \n",
    "        train_indices = indices[: n_train]\n",
    "        val_indices = indices[n_train:]\n",
    "        \n",
    "        print('train iindices', len(train_indices), 'val indices', len(val_indices))\n",
    "        \n",
    "        y_train_fold, X_train_fold, y_val_fold, X_val_fold = y_train[train_indices], X_train[train_indices, :], \\\n",
    "        y_train[val_indices], X_train[val_indices, :]\n",
    "        \n",
    "        # Loop over all batches\n",
    "        for x,y in get_next_batch(batch_size, X_train_fold, y_train_fold):\n",
    "            sess.run(optimizer, \n",
    "                     feed_dict={input_placeholder:x, labels:y, learning_rate_ph:current_placeholder_value, keep_prob:0.70})\n",
    "        \n",
    "        \n",
    "        if (epoch+1) % 1 == 0:\n",
    "            # Find training cost.\n",
    "            c = eval_cost(X_train_fold, y_train_fold)\n",
    "            cost_curr.append(c)\n",
    "            # Find train accuracy\n",
    "            current_train_acc = eval_accuracy(X_train_fold,y_train_fold)\n",
    "            train_accuracy.append(current_train_acc)\n",
    "            # Find the validation accuracy\n",
    "            current_val_acc = eval_accuracy(X_val_fold, y_val_fold)\n",
    "            val_accuracy.append(current_val_acc)\n",
    "            # Find test accuracy\n",
    "            test_acc = eval_accuracy(X_test, y_test)\n",
    "            test_accuracy.append(test_acc)\n",
    "            \n",
    "            \n",
    "            print(\"Epoch:\", '%04d' % (epoch+1), \"cost=\", \"{:.9f}\".format(c))\n",
    "            print(\"Train Accuracy:\", current_train_acc)\n",
    "            print(\"Validation Accuracy:\", current_val_acc)\n",
    "            print(\"Test Accuracy:\",test_acc)\n",
    "            print()\n",
    "            \n",
    "            if test_acc > 0.99:\n",
    "                saver = tf.train.Saver()\n",
    "                saver.save(sess,'./mnist-acc{}'.format(test_acc*100.0),global_step=epoch+1)\n",
    "                \n",
    "    tf.train.write_graph(\n",
    "       tf.get_default_graph().as_graph_def(),\n",
    "       \"./checkpoint/\",\n",
    "       \"mnist.pbtxt\",\n",
    "       as_text=True\n",
    "    )\n",
    "    tf.train.write_graph(\n",
    "       tf.get_default_graph().as_graph_def(),\n",
    "       \"./checkpoint/\",\n",
    "       \"mnist.pb\",\n",
    "       as_text=False\n",
    "    )\n",
    "              \n",
    "    \n",
    "    print(\"Optimization Finished!\")\n",
    "    # Find test accuracy\n",
    "    print(\"Test Accuracy:\",eval_accuracy(X_test, y_test) )"
   ]
  },
  {
   "cell_type": "code",
   "execution_count": 11,
   "metadata": {},
   "outputs": [
    {
     "data": {
      "image/png": "[encoded data removed]",
      "text/plain": [
       "<Figure size 432x288 with 1 Axes>"
      ]
     },
     "metadata": {},
     "output_type": "display_data"
    }
   ],
   "source": [
    "plt.plot(train_accuracy, 'b-', val_accuracy, 'r-', test_accuracy,'k-')\n",
    "plt.show()"
   ]
  },
  {
   "cell_type": "code",
   "execution_count": 12,
   "metadata": {},
   "outputs": [
    {
     "data": {
      "image/png": "[encoded data removed]",
      "text/plain": [
       "<Figure size 432x288 with 1 Axes>"
      ]
     },
     "metadata": {},
     "output_type": "display_data"
    }
   ],
   "source": [
    "plt.plot(cost_curr, 'b-')\n",
    "plt.show()"
   ]
  },
  {
   "cell_type": "code",
   "execution_count": 13,
   "metadata": {},
   "outputs": [
    {
     "ename": "NameError",
     "evalue": "name 'y_predicted_test' is not defined",
     "output_type": "error",
     "traceback": [
      "\u001b[1;31m---------------------------------------------------------------------------\u001b[0m",
      "\u001b[1;31mNameError\u001b[0m                                 Traceback (most recent call last)",
      "\u001b[1;32m<ipython-input-13-d410dd7a0075>\u001b[0m in \u001b[0;36m<module>\u001b[1;34m()\u001b[0m\n\u001b[0;32m      1\u001b[0m \u001b[1;32mfrom\u001b[0m \u001b[0msklearn\u001b[0m\u001b[1;33m.\u001b[0m\u001b[0mmetrics\u001b[0m \u001b[1;32mimport\u001b[0m \u001b[0mconfusion_matrix\u001b[0m\u001b[1;33m\u001b[0m\u001b[0m\n\u001b[0;32m      2\u001b[0m \u001b[1;33m\u001b[0m\u001b[0m\n\u001b[1;32m----> 3\u001b[1;33m \u001b[0mconfusion_matrix\u001b[0m\u001b[1;33m(\u001b[0m\u001b[0my_true\u001b[0m\u001b[1;33m=\u001b[0m\u001b[0my_test\u001b[0m\u001b[1;33m,\u001b[0m \u001b[0my_pred\u001b[0m\u001b[1;33m=\u001b[0m\u001b[0my_predicted_test\u001b[0m\u001b[1;33m)\u001b[0m\u001b[1;33m\u001b[0m\u001b[0m\n\u001b[0m",
      "\u001b[1;31mNameError\u001b[0m: name 'y_predicted_test' is not defined"
     ]
    }
   ],
   "source": [
    "from sklearn.metrics import confusion_matrix\n",
    "\n",
    "confusion_matrix(y_true=y_test, y_pred=y_predicted_test)"
   ]
  },
  {
   "cell_type": "code",
   "execution_count": 14,
   "metadata": {},
   "outputs": [
    {
     "ename": "NameError",
     "evalue": "name 'y_predicted_test' is not defined",
     "output_type": "error",
     "traceback": [
      "\u001b[1;31m---------------------------------------------------------------------------\u001b[0m",
      "\u001b[1;31mNameError\u001b[0m                                 Traceback (most recent call last)",
      "\u001b[1;32m<ipython-input-14-7341de938253>\u001b[0m in \u001b[0;36m<module>\u001b[1;34m()\u001b[0m\n\u001b[1;32m----> 1\u001b[1;33m \u001b[0mindices\u001b[0m \u001b[1;33m=\u001b[0m \u001b[0mnp\u001b[0m\u001b[1;33m.\u001b[0m\u001b[0mwhere\u001b[0m\u001b[1;33m(\u001b[0m\u001b[0mnp\u001b[0m\u001b[1;33m.\u001b[0m\u001b[0mlogical_and\u001b[0m\u001b[1;33m(\u001b[0m\u001b[0my_predicted_test\u001b[0m \u001b[1;33m==\u001b[0m \u001b[1;36m7\u001b[0m\u001b[1;33m,\u001b[0m \u001b[0my_test\u001b[0m\u001b[1;33m.\u001b[0m\u001b[0msqueeze\u001b[0m\u001b[1;33m(\u001b[0m\u001b[1;33m)\u001b[0m \u001b[1;33m==\u001b[0m \u001b[1;36m9\u001b[0m\u001b[1;33m)\u001b[0m\u001b[1;33m)\u001b[0m\u001b[1;33m[\u001b[0m\u001b[1;36m0\u001b[0m\u001b[1;33m]\u001b[0m\u001b[1;33m\u001b[0m\u001b[0m\n\u001b[0m\u001b[0;32m      2\u001b[0m \u001b[1;32mfor\u001b[0m \u001b[0mi\u001b[0m \u001b[1;32min\u001b[0m \u001b[0mindices\u001b[0m\u001b[1;33m:\u001b[0m\u001b[1;33m\u001b[0m\u001b[0m\n\u001b[0;32m      3\u001b[0m     \u001b[0mplt\u001b[0m\u001b[1;33m.\u001b[0m\u001b[0mfigure\u001b[0m\u001b[1;33m(\u001b[0m\u001b[0mfigsize\u001b[0m\u001b[1;33m=\u001b[0m\u001b[1;33m(\u001b[0m\u001b[1;36m0.50\u001b[0m\u001b[1;33m,\u001b[0m\u001b[1;36m0.50\u001b[0m\u001b[1;33m)\u001b[0m\u001b[1;33m)\u001b[0m\u001b[1;33m\u001b[0m\u001b[0m\n\u001b[0;32m      4\u001b[0m     \u001b[0mplt\u001b[0m\u001b[1;33m.\u001b[0m\u001b[0mimshow\u001b[0m\u001b[1;33m(\u001b[0m\u001b[0mX_test\u001b[0m\u001b[1;33m[\u001b[0m\u001b[0mi\u001b[0m\u001b[1;33m]\u001b[0m\u001b[1;33m.\u001b[0m\u001b[0mreshape\u001b[0m\u001b[1;33m(\u001b[0m\u001b[1;33m[\u001b[0m\u001b[1;36m28\u001b[0m\u001b[1;33m,\u001b[0m\u001b[1;36m28\u001b[0m\u001b[1;33m]\u001b[0m\u001b[1;33m)\u001b[0m\u001b[1;33m,\u001b[0m\u001b[0mcmap\u001b[0m\u001b[1;33m=\u001b[0m\u001b[1;34m'gray'\u001b[0m\u001b[1;33m)\u001b[0m\u001b[1;33m\u001b[0m\u001b[0m\n\u001b[0;32m      5\u001b[0m     \u001b[0mplt\u001b[0m\u001b[1;33m.\u001b[0m\u001b[0mshow\u001b[0m\u001b[1;33m(\u001b[0m\u001b[1;33m)\u001b[0m\u001b[1;33m\u001b[0m\u001b[0m\n",
      "\u001b[1;31mNameError\u001b[0m: name 'y_predicted_test' is not defined"
     ]
    }
   ],
   "source": [
    "indices = np.where(np.logical_and(y_predicted_test == 7, y_test.squeeze() == 9))[0]\n",
    "for i in indices:\n",
    "    plt.figure(figsize=(0.50,0.50))\n",
    "    plt.imshow(X_test[i].reshape([28,28]),cmap='gray')\n",
    "    plt.show()"
   ]
  }
 ],
 "metadata": {
  "kernelspec": {
   "display_name": "Python 3",
   "language": "python",
   "name": "python3"
  },
  "language_info": {
   "codemirror_mode": {
    "name": "ipython",
    "version": 3
   },
   "file_extension": ".py",
   "mimetype": "text/x-python",
   "name": "python",
   "nbconvert_exporter": "python",
   "pygments_lexer": "ipython3",
   "version": "3.6.5"
  }
 },
 "nbformat": 4,
 "nbformat_minor": 2
}
