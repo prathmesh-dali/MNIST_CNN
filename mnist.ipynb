{
 "cells": [
  {
   "cell_type": "code",
   "execution_count": 1,
   "metadata": {},
   "outputs": [
    {
     "name": "stderr",
     "output_type": "stream",
     "text": [
      "/home/farhanhubble/anaconda3/envs/dl-tflow-src/lib/python3.6/site-packages/h5py/__init__.py:36: FutureWarning: Conversion of the second argument of issubdtype from `float` to `np.floating` is deprecated. In future, it will be treated as `np.float64 == np.dtype(float).type`.\n",
      "  from ._conv import register_converters as _register_converters\n"
     ]
    }
   ],
   "source": [
    "%matplotlib inline\n",
    "\n",
    "import numpy as np\n",
    "import matplotlib.pyplot as plt\n",
    "import pandas as pd\n",
    "import tensorflow as tf"
   ]
  },
  {
   "cell_type": "code",
   "execution_count": 9,
   "metadata": {},
   "outputs": [],
   "source": [
    "dataframe = pd.read_csv('train.csv').as_matrix()"
   ]
  },
  {
   "cell_type": "code",
   "execution_count": 10,
   "metadata": {},
   "outputs": [
    {
     "data": {
      "text/plain": [
       "(42000, 785)"
      ]
     },
     "execution_count": 10,
     "metadata": {},
     "output_type": "execute_result"
    }
   ],
   "source": [
    "dataframe.shape"
   ]
  },
  {
   "cell_type": "code",
   "execution_count": 3,
   "metadata": {},
   "outputs": [],
   "source": [
    "y, X = dataframe[:,0], dataframe[:, 1:]\n",
    "y = y.reshape([-1,1])\n",
    "\n",
    "indices = list(range(len(X)))\n",
    "np.random.shuffle(indices)\n",
    "\n",
    "X = X[indices].astype(np.float32)\n",
    "y = y[indices].astype(np.float32)"
   ]
  },
  {
   "cell_type": "code",
   "execution_count": 4,
   "metadata": {},
   "outputs": [],
   "source": [
    "# Split it into train and validation\n",
    "n_train = int(0.7 * len(y))\n",
    "\n",
    "y_train, X_train, y_test, X_test = y[: n_train], X[: n_train, :], y[n_train:], X[n_train:, :]\n",
    "\n",
    "X_train -= 127.0\n",
    "X_train /= 127.0\n",
    "\n",
    "X_test  -= 127.0\n",
    "X_test /= 127.0"
   ]
  },
  {
   "cell_type": "code",
   "execution_count": 5,
   "metadata": {},
   "outputs": [],
   "source": [
    "def get_next_batch(batch_size, X, y):\n",
    "    for i in range(int(y.shape[0]/batch_size)-1):\n",
    "        yield X[i: i+batch_size, :] , y[i: i+batch_size]"
   ]
  },
  {
   "cell_type": "code",
   "execution_count": 6,
   "metadata": {},
   "outputs": [],
   "source": [
    "def combine(tensor_one, tensor_two):\n",
    "    return tf.div(tf.add(tensor_one, tensor_two), 2)"
   ]
  },
  {
   "cell_type": "code",
   "execution_count": 7,
   "metadata": {},
   "outputs": [],
   "source": [
    "input_ = tf.placeholder(dtype=tf.float32, shape=(None, X_train.shape[1]))\n",
    "labels = tf.placeholder(dtype=tf.int32, shape=(None, 1))\n",
    "learning_rate_ph = tf.placeholder(dtype=tf.float32)\n",
    "keep_prob = tf.placeholder(dtype=tf.float32)"
   ]
  },
  {
   "cell_type": "code",
   "execution_count": 8,
   "metadata": {},
   "outputs": [],
   "source": [
    "def nn():\n",
    "    input_2d = tf.reshape(input_,[-1,28,28,1])\n",
    "    l1_1 = tf.layers.conv2d(input_2d,8,5,1,activation=tf.nn.relu)\n",
    "    l1_2 = tf.layers.average_pooling2d(l1_1,2,1)\n",
    "    l1_3 = tf.layers.conv2d(l1_2,8,3,1,activation=tf.nn.relu)\n",
    "    l1_4 = tf.layers.max_pooling2d(l1_3,2,2)\n",
    "    l1_5 = tf.layers.flatten(l1_4)\n",
    "    l2   = tf.layers.dense(l1_5, 32, activation=tf.nn.relu)\n",
    "    out  = tf.layers.dense(l2,10)\n",
    "    \n",
    "    # Define the cost\n",
    "    cost = tf.reduce_mean(tf.nn.softmax_cross_entropy_with_logits(logits=out, labels=tf.one_hot(labels,depth=10)))\n",
    "    \n",
    "    # Apply an optimizer\n",
    "    optimizer = tf.train.AdamOptimizer(learning_rate=learning_rate_ph).minimize(cost)\n",
    "    \n",
    "    return cost, optimizer, out"
   ]
  },
  {
   "cell_type": "code",
   "execution_count": null,
   "metadata": {},
   "outputs": [],
   "source": []
  },
  {
   "cell_type": "code",
   "execution_count": null,
   "metadata": {},
   "outputs": [],
   "source": [
    "cost, optimizer, output = nn()"
   ]
  },
  {
   "cell_type": "code",
   "execution_count": null,
   "metadata": {
    "scrolled": true
   },
   "outputs": [],
   "source": [
    "from sklearn.metrics import accuracy_score\n",
    "from tqdm import tqdm\n",
    "\n",
    "epochs = 75\n",
    "batch_size = 512\n",
    "num_batches = int(X_train.shape[0]/batch_size)\n",
    "n_train = int(len(y_train)*0.8)\n",
    "\n",
    "train_accuracy = []\n",
    "val_accuracy = []\n",
    "test_accuracy = []\n",
    "cost_curr = []\n",
    "\n",
    "def eval_cost(X, y):\n",
    "    total_cost = 0\n",
    "    nb_batches = 0\n",
    "    for X,y in get_next_batch(256,X,y):\n",
    "        feed_dict={input_: X, labels: y, learning_rate_ph:current_placeholder_value, keep_prob:1.0}\n",
    "        total_cost += cost.eval(feed_dict=feed_dict)\n",
    "        nb_batches += 1\n",
    "    return total_cost / nb_batches\n",
    "\n",
    "def eval_accuracy(X,y):\n",
    "    nb_batches = 0\n",
    "    total_acc = 0\n",
    "    for X,y in get_next_batch(256,X,y):\n",
    "        feed_dict={input_: X, labels: y, learning_rate_ph:current_placeholder_value, keep_prob:1.0}\n",
    "        y_predicted = np.argmax(output.eval(feed_dict=feed_dict),1)\n",
    "        total_acc += accuracy_score(y,y_predicted)\n",
    "        nb_batches += 1\n",
    "    return total_acc/nb_batches\n",
    "        \n",
    "\n",
    "# Launch the graph\n",
    "with tf.Session() as sess:\n",
    "    sess.run(tf.global_variables_initializer())\n",
    "    current_placeholder_value = 0.001\n",
    "    \n",
    "    for epoch in tqdm(range(epochs)):\n",
    "        # Shuffle data for cross validation\n",
    "        indices = np.array(range(len(y_train)))\n",
    "        np.random.shuffle(indices)\n",
    "        \n",
    "        train_indices = indices[: n_train]\n",
    "        val_indices = indices[n_train:]\n",
    "        \n",
    "        print('train iindices', len(train_indices), 'val indices', len(val_indices))\n",
    "        \n",
    "        y_train_fold, X_train_fold, y_val_fold, X_val_fold = y_train[train_indices], X_train[train_indices, :], \\\n",
    "        y_train[val_indices], X_train[val_indices, :]\n",
    "        \n",
    "        # Loop over all batches\n",
    "        for x,y in get_next_batch(batch_size, X_train_fold, y_train_fold):\n",
    "            sess.run(optimizer, \n",
    "                     feed_dict={input_:x, labels:y, learning_rate_ph:current_placeholder_value, keep_prob:0.70})\n",
    "        \n",
    "        \n",
    "        if (epoch+1) % 1 == 0:\n",
    "            # Find training cost.\n",
    "            c = eval_cost(X_train_fold, y_train_fold)\n",
    "            cost_curr.append(c)\n",
    "            # Find train accuracy\n",
    "            current_train_acc = eval_accuracy(X_train_fold,y_train_fold)\n",
    "            train_accuracy.append(current_train_acc)\n",
    "            # Find the validation accuracy\n",
    "            current_val_acc = eval_accuracy(X_val_fold, y_val_fold)\n",
    "            val_accuracy.append(current_val_acc)\n",
    "            # Find test accuracy\n",
    "            test_acc = eval_accuracy(X_test, y_test)\n",
    "            test_accuracy.append(test_acc)\n",
    "            \n",
    "            \n",
    "            print(\"Epoch:\", '%04d' % (epoch+1), \"cost=\", \"{:.9f}\".format(c))\n",
    "            print(\"Train Accuracy:\", current_train_acc)\n",
    "            print(\"Validation Accuracy:\", current_val_acc)\n",
    "            print(\"Test Accuracy:\",test_acc)\n",
    "            print()\n",
    "            \n",
    "            if test_acc > 0.99:\n",
    "                saver = tf.train.Saver()\n",
    "                saver.save(sess,'./mnist-acc{}'.format(test_acc*100.0),global_step=epoch+1)\n",
    "              \n",
    "    \n",
    "    print(\"Optimization Finished!\")\n",
    "    # Find test accuracy\n",
    "    print(\"Test Accuracy:\",eval_accuracy(X_test, y_test) )"
   ]
  },
  {
   "cell_type": "code",
   "execution_count": null,
   "metadata": {},
   "outputs": [],
   "source": [
    "plt.plot(train_accuracy, 'b-', val_accuracy, 'r-', test_accuracy,'k-')\n",
    "plt.show()"
   ]
  },
  {
   "cell_type": "code",
   "execution_count": null,
   "metadata": {},
   "outputs": [],
   "source": [
    "plt.plot(cost_curr, 'b-')\n",
    "plt.show()"
   ]
  },
  {
   "cell_type": "code",
   "execution_count": null,
   "metadata": {},
   "outputs": [],
   "source": [
    "from sklearn.metrics import confusion_matrix\n",
    "\n",
    "confusion_matrix(y_true=y_test, y_pred=y_predicted_test)"
   ]
  },
  {
   "cell_type": "code",
   "execution_count": null,
   "metadata": {},
   "outputs": [],
   "source": [
    "indices = np.where(np.logical_and(y_predicted_test == 7, y_test.squeeze() == 9))[0]\n",
    "for i in indices:\n",
    "    plt.figure(figsize=(0.50,0.50))\n",
    "    plt.imshow(X_test[i].reshape([28,28]),cmap='gray')\n",
    "    plt.show()"
   ]
  },
  {
   "cell_type": "code",
   "execution_count": null,
   "metadata": {},
   "outputs": [],
   "source": []
  }
 ],
 "metadata": {
  "kernelspec": {
   "display_name": "Python 3",
   "language": "python",
   "name": "python3"
  },
  "language_info": {
   "codemirror_mode": {
    "name": "ipython",
    "version": 3
   },
   "file_extension": ".py",
   "mimetype": "text/x-python",
   "name": "python",
   "nbconvert_exporter": "python",
   "pygments_lexer": "ipython3",
   "version": "3.6.5"
  }
 },
 "nbformat": 4,
 "nbformat_minor": 2
}
